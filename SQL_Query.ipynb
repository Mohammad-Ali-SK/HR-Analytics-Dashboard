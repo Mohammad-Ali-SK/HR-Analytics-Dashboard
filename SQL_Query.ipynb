{
 "cells": [
  {
   "cell_type": "markdown",
   "metadata": {},
   "source": [
    "## Connect SQL Server"
   ]
  },
  {
   "cell_type": "code",
   "execution_count": 22,
   "metadata": {},
   "outputs": [
    {
     "name": "stdout",
     "output_type": "stream",
     "text": [
      "('PostgreSQL 17.0 on x86_64-windows, compiled by msvc-19.41.34120, 64-bit',)\n"
     ]
    }
   ],
   "source": [
    "import psycopg2\n",
    "\n",
    "# Define connection parameters\n",
    "conn = psycopg2.connect(\n",
    "    host=\"localhost\",\n",
    "    user=\"postgres\",\n",
    "    password=\"mohammad\",\n",
    "    dbname=\"HR Analysis\",\n",
    "    port=\"5432\"  # PostgreSQL default port is 5432\n",
    ")\n",
    "\n",
    "# Create a cursor to interact with the database\n",
    "cur = conn.cursor()\n",
    "\n",
    "# Example: Run a query\n",
    "cur.execute(\"SELECT version();\")\n",
    "print(cur.fetchone())"
   ]
  },
  {
   "cell_type": "code",
   "execution_count": 23,
   "metadata": {},
   "outputs": [],
   "source": [
    "import pandas as pd\n",
    "import numpy as np\n",
    "import matplotlib.pyplot as plt\n",
    "import seaborn as sns"
   ]
  },
  {
   "cell_type": "markdown",
   "metadata": {},
   "source": [
    "## Import Data"
   ]
  },
  {
   "cell_type": "code",
   "execution_count": 24,
   "metadata": {},
   "outputs": [
    {
     "data": {
      "text/html": [
       "<div>\n",
       "<style scoped>\n",
       "    .dataframe tbody tr th:only-of-type {\n",
       "        vertical-align: middle;\n",
       "    }\n",
       "\n",
       "    .dataframe tbody tr th {\n",
       "        vertical-align: top;\n",
       "    }\n",
       "\n",
       "    .dataframe thead th {\n",
       "        text-align: right;\n",
       "    }\n",
       "</style>\n",
       "<table border=\"1\" class=\"dataframe\">\n",
       "  <thead>\n",
       "    <tr style=\"text-align: right;\">\n",
       "      <th></th>\n",
       "      <th>emp_no</th>\n",
       "      <th>gender</th>\n",
       "      <th>marital_status</th>\n",
       "      <th>age_band</th>\n",
       "      <th>age</th>\n",
       "      <th>department</th>\n",
       "      <th>education</th>\n",
       "      <th>education_field</th>\n",
       "      <th>job_role</th>\n",
       "      <th>business_travel</th>\n",
       "      <th>employee_count</th>\n",
       "      <th>attrition</th>\n",
       "      <th>attrition_label</th>\n",
       "      <th>job_satisfaction</th>\n",
       "      <th>active_employee</th>\n",
       "    </tr>\n",
       "  </thead>\n",
       "  <tbody>\n",
       "    <tr>\n",
       "      <th>0</th>\n",
       "      <td>10001</td>\n",
       "      <td>Female</td>\n",
       "      <td>Single</td>\n",
       "      <td>35 - 44</td>\n",
       "      <td>41</td>\n",
       "      <td>Sales</td>\n",
       "      <td>Associates Degree</td>\n",
       "      <td>Life Sciences</td>\n",
       "      <td>Sales Executive</td>\n",
       "      <td>Travel_Rarely</td>\n",
       "      <td>1</td>\n",
       "      <td>Yes</td>\n",
       "      <td>Ex-Employees</td>\n",
       "      <td>4</td>\n",
       "      <td>0</td>\n",
       "    </tr>\n",
       "    <tr>\n",
       "      <th>1</th>\n",
       "      <td>10002</td>\n",
       "      <td>Male</td>\n",
       "      <td>Married</td>\n",
       "      <td>45 - 54</td>\n",
       "      <td>49</td>\n",
       "      <td>R&amp;D</td>\n",
       "      <td>High School</td>\n",
       "      <td>Life Sciences</td>\n",
       "      <td>Research Scientist</td>\n",
       "      <td>Travel_Frequently</td>\n",
       "      <td>1</td>\n",
       "      <td>No</td>\n",
       "      <td>Current Employees</td>\n",
       "      <td>2</td>\n",
       "      <td>1</td>\n",
       "    </tr>\n",
       "    <tr>\n",
       "      <th>2</th>\n",
       "      <td>10003</td>\n",
       "      <td>Male</td>\n",
       "      <td>Single</td>\n",
       "      <td>35 - 44</td>\n",
       "      <td>37</td>\n",
       "      <td>R&amp;D</td>\n",
       "      <td>Associates Degree</td>\n",
       "      <td>Other</td>\n",
       "      <td>Laboratory Technician</td>\n",
       "      <td>Travel_Rarely</td>\n",
       "      <td>1</td>\n",
       "      <td>Yes</td>\n",
       "      <td>Ex-Employees</td>\n",
       "      <td>3</td>\n",
       "      <td>0</td>\n",
       "    </tr>\n",
       "  </tbody>\n",
       "</table>\n",
       "</div>"
      ],
      "text/plain": [
       "   emp_no  gender marital_status age_band  age department          education  \\\n",
       "0   10001  Female         Single  35 - 44   41      Sales  Associates Degree   \n",
       "1   10002    Male        Married  45 - 54   49        R&D        High School   \n",
       "2   10003    Male         Single  35 - 44   37        R&D  Associates Degree   \n",
       "\n",
       "  education_field               job_role    business_travel  employee_count  \\\n",
       "0   Life Sciences        Sales Executive      Travel_Rarely               1   \n",
       "1   Life Sciences     Research Scientist  Travel_Frequently               1   \n",
       "2           Other  Laboratory Technician      Travel_Rarely               1   \n",
       "\n",
       "  attrition    attrition_label  job_satisfaction  active_employee  \n",
       "0       Yes       Ex-Employees                 4                0  \n",
       "1        No  Current Employees                 2                1  \n",
       "2       Yes       Ex-Employees                 3                0  "
      ]
     },
     "execution_count": 24,
     "metadata": {},
     "output_type": "execute_result"
    }
   ],
   "source": [
    "data = pd.read_csv(\"./hrdata.csv\")\n",
    "data.head(3)"
   ]
  },
  {
   "cell_type": "markdown",
   "metadata": {},
   "source": [
    "## 1. Retrieve all records from the dataset. "
   ]
  },
  {
   "cell_type": "code",
   "execution_count": 25,
   "metadata": {},
   "outputs": [
    {
     "data": {
      "text/html": [
       "<div>\n",
       "<style scoped>\n",
       "    .dataframe tbody tr th:only-of-type {\n",
       "        vertical-align: middle;\n",
       "    }\n",
       "\n",
       "    .dataframe tbody tr th {\n",
       "        vertical-align: top;\n",
       "    }\n",
       "\n",
       "    .dataframe thead th {\n",
       "        text-align: right;\n",
       "    }\n",
       "</style>\n",
       "<table border=\"1\" class=\"dataframe\">\n",
       "  <thead>\n",
       "    <tr style=\"text-align: right;\">\n",
       "      <th></th>\n",
       "      <th>emp_no</th>\n",
       "      <th>gender</th>\n",
       "      <th>marital_status</th>\n",
       "      <th>age_band</th>\n",
       "      <th>age</th>\n",
       "      <th>department</th>\n",
       "      <th>education</th>\n",
       "      <th>education_field</th>\n",
       "      <th>job_role</th>\n",
       "      <th>business_travel</th>\n",
       "      <th>employee_count</th>\n",
       "      <th>attrition</th>\n",
       "      <th>attrition_label</th>\n",
       "      <th>job_satisfaction</th>\n",
       "      <th>active_employee</th>\n",
       "      <th>age_group</th>\n",
       "    </tr>\n",
       "  </thead>\n",
       "  <tbody>\n",
       "    <tr>\n",
       "      <th>0</th>\n",
       "      <td>10749</td>\n",
       "      <td>Male</td>\n",
       "      <td>Single</td>\n",
       "      <td>25 - 34</td>\n",
       "      <td>26</td>\n",
       "      <td>Sales</td>\n",
       "      <td>Associates Degree</td>\n",
       "      <td>Medical</td>\n",
       "      <td>Sales Executive</td>\n",
       "      <td>Non-Travel</td>\n",
       "      <td>1</td>\n",
       "      <td>Yes</td>\n",
       "      <td>Ex-Employees</td>\n",
       "      <td>1</td>\n",
       "      <td>0</td>\n",
       "      <td>25-45</td>\n",
       "    </tr>\n",
       "    <tr>\n",
       "      <th>1</th>\n",
       "      <td>10001</td>\n",
       "      <td>Female</td>\n",
       "      <td>Single</td>\n",
       "      <td>35 - 44</td>\n",
       "      <td>41</td>\n",
       "      <td>Sales</td>\n",
       "      <td>Associates Degree</td>\n",
       "      <td>Life Sciences</td>\n",
       "      <td>Sales Executive</td>\n",
       "      <td>Travel_Rarely</td>\n",
       "      <td>1</td>\n",
       "      <td>Yes</td>\n",
       "      <td>Ex-Employees</td>\n",
       "      <td>4</td>\n",
       "      <td>0</td>\n",
       "      <td>25-45</td>\n",
       "    </tr>\n",
       "    <tr>\n",
       "      <th>2</th>\n",
       "      <td>10002</td>\n",
       "      <td>Male</td>\n",
       "      <td>Married</td>\n",
       "      <td>45 - 54</td>\n",
       "      <td>49</td>\n",
       "      <td>R&amp;D</td>\n",
       "      <td>High School</td>\n",
       "      <td>Life Sciences</td>\n",
       "      <td>Research Scientist</td>\n",
       "      <td>Travel_Frequently</td>\n",
       "      <td>1</td>\n",
       "      <td>No</td>\n",
       "      <td>Current Employees</td>\n",
       "      <td>2</td>\n",
       "      <td>1</td>\n",
       "      <td>45-65</td>\n",
       "    </tr>\n",
       "  </tbody>\n",
       "</table>\n",
       "</div>"
      ],
      "text/plain": [
       "   emp_no  gender marital_status age_band  age department          education  \\\n",
       "0   10749    Male         Single  25 - 34   26      Sales  Associates Degree   \n",
       "1   10001  Female         Single  35 - 44   41      Sales  Associates Degree   \n",
       "2   10002    Male        Married  45 - 54   49        R&D        High School   \n",
       "\n",
       "  education_field            job_role    business_travel  employee_count  \\\n",
       "0         Medical     Sales Executive         Non-Travel               1   \n",
       "1   Life Sciences     Sales Executive      Travel_Rarely               1   \n",
       "2   Life Sciences  Research Scientist  Travel_Frequently               1   \n",
       "\n",
       "  attrition    attrition_label  job_satisfaction  active_employee age_group  \n",
       "0       Yes       Ex-Employees                 1                0     25-45  \n",
       "1       Yes       Ex-Employees                 4                0     25-45  \n",
       "2        No  Current Employees                 2                1     45-65  "
      ]
     },
     "execution_count": 25,
     "metadata": {},
     "output_type": "execute_result"
    }
   ],
   "source": [
    "query = \"\"\"select * from hrdata \"\"\"\n",
    "cur.execute(query)\n",
    "data = cur.fetchall()\n",
    "all_data = pd.DataFrame(data, columns=['emp_no', 'gender', 'marital_status', 'age_band', 'age', 'department',\n",
    "       'education', 'education_field', 'job_role', 'business_travel',\n",
    "       'employee_count', 'attrition', 'attrition_label', 'job_satisfaction',\n",
    "       'active_employee','age_group'])\n",
    "all_data.head(3)"
   ]
  },
  {
   "cell_type": "markdown",
   "metadata": {},
   "source": [
    "## 2. Get the count of all employees."
   ]
  },
  {
   "cell_type": "code",
   "execution_count": 26,
   "metadata": {},
   "outputs": [
    {
     "name": "stdout",
     "output_type": "stream",
     "text": [
      "Total employee is 1470\n"
     ]
    }
   ],
   "source": [
    "query = \"\"\"SELECT COUNT(emp_no) AS total_employees FROM hrdata;\"\"\"\n",
    "cur.execute(query)\n",
    "data = cur.fetchall()\n",
    "data[0][0]\n",
    "print(f\"Total employee is {data[0][0]}\")"
   ]
  },
  {
   "cell_type": "markdown",
   "metadata": {},
   "source": [
    "## 3. List all distinct job roles in the dataset. "
   ]
  },
  {
   "cell_type": "code",
   "execution_count": 27,
   "metadata": {},
   "outputs": [
    {
     "data": {
      "text/html": [
       "<div>\n",
       "<style scoped>\n",
       "    .dataframe tbody tr th:only-of-type {\n",
       "        vertical-align: middle;\n",
       "    }\n",
       "\n",
       "    .dataframe tbody tr th {\n",
       "        vertical-align: top;\n",
       "    }\n",
       "\n",
       "    .dataframe thead th {\n",
       "        text-align: right;\n",
       "    }\n",
       "</style>\n",
       "<table border=\"1\" class=\"dataframe\">\n",
       "  <thead>\n",
       "    <tr style=\"text-align: right;\">\n",
       "      <th></th>\n",
       "      <th>job_role</th>\n",
       "    </tr>\n",
       "  </thead>\n",
       "  <tbody>\n",
       "    <tr>\n",
       "      <th>0</th>\n",
       "      <td>Manager</td>\n",
       "    </tr>\n",
       "    <tr>\n",
       "      <th>1</th>\n",
       "      <td>Research Scientist</td>\n",
       "    </tr>\n",
       "    <tr>\n",
       "      <th>2</th>\n",
       "      <td>Healthcare Representative</td>\n",
       "    </tr>\n",
       "    <tr>\n",
       "      <th>3</th>\n",
       "      <td>Human Resources</td>\n",
       "    </tr>\n",
       "    <tr>\n",
       "      <th>4</th>\n",
       "      <td>Laboratory Technician</td>\n",
       "    </tr>\n",
       "    <tr>\n",
       "      <th>5</th>\n",
       "      <td>Manufacturing Director</td>\n",
       "    </tr>\n",
       "    <tr>\n",
       "      <th>6</th>\n",
       "      <td>Sales Representative</td>\n",
       "    </tr>\n",
       "    <tr>\n",
       "      <th>7</th>\n",
       "      <td>Sales Executive</td>\n",
       "    </tr>\n",
       "    <tr>\n",
       "      <th>8</th>\n",
       "      <td>Research Director</td>\n",
       "    </tr>\n",
       "  </tbody>\n",
       "</table>\n",
       "</div>"
      ],
      "text/plain": [
       "                    job_role\n",
       "0                    Manager\n",
       "1         Research Scientist\n",
       "2  Healthcare Representative\n",
       "3            Human Resources\n",
       "4      Laboratory Technician\n",
       "5     Manufacturing Director\n",
       "6       Sales Representative\n",
       "7            Sales Executive\n",
       "8          Research Director"
      ]
     },
     "execution_count": 27,
     "metadata": {},
     "output_type": "execute_result"
    }
   ],
   "source": [
    "query = \"\"\"select distinct \"job_role\" from hrdata\"\"\"\n",
    "cur.execute(query)\n",
    "data = cur.fetchall()\n",
    "job_role = pd.DataFrame(data, columns=['job_role'])\n",
    "job_role"
   ]
  },
  {
   "cell_type": "markdown",
   "metadata": {},
   "source": [
    "## 4. Find the total number of active employees."
   ]
  },
  {
   "cell_type": "code",
   "execution_count": 28,
   "metadata": {},
   "outputs": [
    {
     "name": "stdout",
     "output_type": "stream",
     "text": [
      "Total active employees: 1233\n"
     ]
    }
   ],
   "source": [
    "query = \"\"\"SELECT COUNT(\"emp_no\") AS active_employees \n",
    "FROM hrdata  \n",
    "WHERE \"active_employee\" = 1;\"\"\"\n",
    "cur.execute(query)\n",
    "data = cur.fetchall()\n",
    "print(f\"Total active employees: {data[0][0]}\")"
   ]
  },
  {
   "cell_type": "markdown",
   "metadata": {},
   "source": [
    "## 5. Show the average age of employees.  "
   ]
  },
  {
   "cell_type": "code",
   "execution_count": 29,
   "metadata": {},
   "outputs": [
    {
     "name": "stdout",
     "output_type": "stream",
     "text": [
      "The average age is 37\n"
     ]
    }
   ],
   "source": [
    "query = \"\"\"select round(avg(\"age\"),0) as avg_age from hrdata\"\"\"\n",
    "cur.execute(query)\n",
    "data = cur.fetchall()\n",
    "print(f\"The average age is {data[0][0]}\")"
   ]
  },
  {
   "cell_type": "markdown",
   "metadata": {},
   "source": [
    "## 6. Get the count of employees by gender."
   ]
  },
  {
   "cell_type": "code",
   "execution_count": 30,
   "metadata": {},
   "outputs": [
    {
     "data": {
      "text/html": [
       "<div>\n",
       "<style scoped>\n",
       "    .dataframe tbody tr th:only-of-type {\n",
       "        vertical-align: middle;\n",
       "    }\n",
       "\n",
       "    .dataframe tbody tr th {\n",
       "        vertical-align: top;\n",
       "    }\n",
       "\n",
       "    .dataframe thead th {\n",
       "        text-align: right;\n",
       "    }\n",
       "</style>\n",
       "<table border=\"1\" class=\"dataframe\">\n",
       "  <thead>\n",
       "    <tr style=\"text-align: right;\">\n",
       "      <th></th>\n",
       "      <th>gender</th>\n",
       "      <th>no_emp</th>\n",
       "    </tr>\n",
       "  </thead>\n",
       "  <tbody>\n",
       "    <tr>\n",
       "      <th>0</th>\n",
       "      <td>Female</td>\n",
       "      <td>588</td>\n",
       "    </tr>\n",
       "    <tr>\n",
       "      <th>1</th>\n",
       "      <td>Male</td>\n",
       "      <td>882</td>\n",
       "    </tr>\n",
       "  </tbody>\n",
       "</table>\n",
       "</div>"
      ],
      "text/plain": [
       "   gender  no_emp\n",
       "0  Female     588\n",
       "1    Male     882"
      ]
     },
     "execution_count": 30,
     "metadata": {},
     "output_type": "execute_result"
    }
   ],
   "source": [
    "query = \"\"\"select \"gender\" as gender, count(\"emp_no\") as no_emp from hrdata\n",
    "group by \"gender\" \"\"\"\n",
    "cur.execute(query)\n",
    "data = cur.fetchall()\n",
    "result = pd.DataFrame(data,columns=['gender','no_emp'])\n",
    "result"
   ]
  },
  {
   "cell_type": "markdown",
   "metadata": {},
   "source": [
    "## 7. Find the number of employees who have left the company.  "
   ]
  },
  {
   "cell_type": "code",
   "execution_count": 31,
   "metadata": {},
   "outputs": [
    {
     "name": "stdout",
     "output_type": "stream",
     "text": [
      "The number of employees who left the company is 237\n"
     ]
    }
   ],
   "source": [
    "query = \"\"\" select count(\"emp_no\") from hrdata where \"attrition\" = 'Yes' \"\"\"\n",
    "cur.execute(query)\n",
    "data = cur.fetchall()\n",
    "print(f\"The number of employees who left the company is {data[0][0]}\")"
   ]
  },
  {
   "cell_type": "markdown",
   "metadata": {},
   "source": [
    "## 8. List departments with their total employees. "
   ]
  },
  {
   "cell_type": "code",
   "execution_count": 32,
   "metadata": {},
   "outputs": [
    {
     "data": {
      "text/html": [
       "<div>\n",
       "<style scoped>\n",
       "    .dataframe tbody tr th:only-of-type {\n",
       "        vertical-align: middle;\n",
       "    }\n",
       "\n",
       "    .dataframe tbody tr th {\n",
       "        vertical-align: top;\n",
       "    }\n",
       "\n",
       "    .dataframe thead th {\n",
       "        text-align: right;\n",
       "    }\n",
       "</style>\n",
       "<table border=\"1\" class=\"dataframe\">\n",
       "  <thead>\n",
       "    <tr style=\"text-align: right;\">\n",
       "      <th></th>\n",
       "      <th>Department</th>\n",
       "      <th>total_emp</th>\n",
       "    </tr>\n",
       "  </thead>\n",
       "  <tbody>\n",
       "    <tr>\n",
       "      <th>0</th>\n",
       "      <td>R&amp;D</td>\n",
       "      <td>961</td>\n",
       "    </tr>\n",
       "    <tr>\n",
       "      <th>1</th>\n",
       "      <td>Sales</td>\n",
       "      <td>446</td>\n",
       "    </tr>\n",
       "    <tr>\n",
       "      <th>2</th>\n",
       "      <td>HR</td>\n",
       "      <td>63</td>\n",
       "    </tr>\n",
       "  </tbody>\n",
       "</table>\n",
       "</div>"
      ],
      "text/plain": [
       "  Department  total_emp\n",
       "0        R&D        961\n",
       "1      Sales        446\n",
       "2         HR         63"
      ]
     },
     "execution_count": 32,
     "metadata": {},
     "output_type": "execute_result"
    }
   ],
   "source": [
    "query = \"\"\"SELECT department, COUNT(emp_no) AS total_employees\n",
    "FROM hrdata\n",
    "GROUP BY department\n",
    "ORDER BY total_employees DESC;\"\"\"\n",
    "cur.execute(query)\n",
    "data = cur.fetchall()\n",
    "result = pd.DataFrame(data,columns=['Department','total_emp'])\n",
    "result\n"
   ]
  },
  {
   "cell_type": "markdown",
   "metadata": {},
   "source": [
    "## 9. Retrieve the average job satisfaction for each department.  "
   ]
  },
  {
   "cell_type": "code",
   "execution_count": 34,
   "metadata": {},
   "outputs": [
    {
     "data": {
      "text/html": [
       "<div>\n",
       "<style scoped>\n",
       "    .dataframe tbody tr th:only-of-type {\n",
       "        vertical-align: middle;\n",
       "    }\n",
       "\n",
       "    .dataframe tbody tr th {\n",
       "        vertical-align: top;\n",
       "    }\n",
       "\n",
       "    .dataframe thead th {\n",
       "        text-align: right;\n",
       "    }\n",
       "</style>\n",
       "<table border=\"1\" class=\"dataframe\">\n",
       "  <thead>\n",
       "    <tr style=\"text-align: right;\">\n",
       "      <th></th>\n",
       "      <th>Department</th>\n",
       "      <th>AVG_Job_Satisfaction</th>\n",
       "    </tr>\n",
       "  </thead>\n",
       "  <tbody>\n",
       "    <tr>\n",
       "      <th>0</th>\n",
       "      <td>HR</td>\n",
       "      <td>2.60</td>\n",
       "    </tr>\n",
       "    <tr>\n",
       "      <th>1</th>\n",
       "      <td>R&amp;D</td>\n",
       "      <td>2.73</td>\n",
       "    </tr>\n",
       "    <tr>\n",
       "      <th>2</th>\n",
       "      <td>Sales</td>\n",
       "      <td>2.75</td>\n",
       "    </tr>\n",
       "  </tbody>\n",
       "</table>\n",
       "</div>"
      ],
      "text/plain": [
       "  Department AVG_Job_Satisfaction\n",
       "0         HR                 2.60\n",
       "1        R&D                 2.73\n",
       "2      Sales                 2.75"
      ]
     },
     "execution_count": 34,
     "metadata": {},
     "output_type": "execute_result"
    }
   ],
   "source": [
    "query = \"\"\" select \"department\" as department, round(avg(\"job_satisfaction\"),2) as avg_job_satisfaction\n",
    "from hrdata\n",
    "group by \"department\"\n",
    "order by avg_job_satisfaction \"\"\"\n",
    "cur.execute(query)\n",
    "data = cur.fetchall()\n",
    "result = pd.DataFrame(data, columns=['Department','AVG_Job_Satisfaction'])\n",
    "result"
   ]
  },
  {
   "cell_type": "markdown",
   "metadata": {},
   "source": [
    "## 10. Find the percentage of employees who travel for business. "
   ]
  },
  {
   "cell_type": "code",
   "execution_count": 39,
   "metadata": {},
   "outputs": [
    {
     "name": "stdout",
     "output_type": "stream",
     "text": [
      "89.8 % of Employees travel Frequently or Rarely.\n"
     ]
    }
   ],
   "source": [
    "query = \"\"\" select round((cast(count(\"emp_no\")as numeric)/ (select count(\"emp_no\") from hrdata))*100,1) as pct_business_travel\n",
    "from hrdata\n",
    "where \"business_travel\" in ('Travel_Frequently','Travel_Rarely') \"\"\"\n",
    "cur.execute(query)\n",
    "data = cur.fetchall()\n",
    "print(f\"{data[0][0]} % of Employees travel Frequently or Rarely.\")"
   ]
  },
  {
   "cell_type": "markdown",
   "metadata": {},
   "source": [
    "## 11. Identify the top 3 departments with the highest attrition rate."
   ]
  },
  {
   "cell_type": "code",
   "execution_count": 47,
   "metadata": {},
   "outputs": [
    {
     "data": {
      "image/png": "[encoded data removed]",
      "text/plain": [
       "<Figure size 500x800 with 1 Axes>"
      ]
     },
     "metadata": {},
     "output_type": "display_data"
    }
   ],
   "source": [
    "query = \"\"\" SELECT \n",
    "    department,\n",
    "    ROUND(\n",
    "        (CAST(COUNT(attrition) AS NUMERIC) * 100.0) /\n",
    "        (SELECT COUNT(*) FROM hrdata WHERE attrition = 'Yes'),\n",
    "        2\n",
    "    ) AS attrition_rate\n",
    "FROM hrdata\n",
    "WHERE attrition = 'Yes'\n",
    "GROUP BY department\n",
    "ORDER BY attrition_rate DESC\n",
    "LIMIT 3; \"\"\"\n",
    "cur.execute(query)\n",
    "data = cur.fetchall()\n",
    "result = pd.DataFrame(data, columns=['Department','Attrition_Rate'])\n",
    "result.value_counts().plot(kind=\"pie\",autopct='%1.1f%%', figsize=(5, 8))\n",
    "plt.title('Attrition Rate Distribution')\n",
    "plt.ylabel('')  # Optional: Remove the y-label for clarity\n",
    "plt.show()"
   ]
  },
  {
   "cell_type": "markdown",
   "metadata": {},
   "source": [
    "## 12. Find the age group (age_band) with the highest job satisfaction. "
   ]
  },
  {
   "cell_type": "code",
   "execution_count": 57,
   "metadata": {},
   "outputs": [
    {
     "data": {
      "image/png": "[encoded data removed]",
      "text/plain": [
       "<Figure size 640x480 with 1 Axes>"
      ]
     },
     "metadata": {},
     "output_type": "display_data"
    }
   ],
   "source": [
    "query = \"\"\" SELECT \n",
    "    age_band, \n",
    "    round(AVG(job_satisfaction),2) AS avg_job_satisfaction\n",
    "FROM hrdata\n",
    "GROUP BY age_band\n",
    "ORDER BY avg_job_satisfaction DESC\n",
    "LIMIT 10;\"\"\"\n",
    "cur.execute(query)\n",
    "data = cur.fetchall()\n",
    "result = pd.DataFrame(data,columns=['Age_Band','Avg_Job_Satisfaction'])\n",
    "result\n",
    "ax = sns.barplot(data=result,y='Avg_Job_Satisfaction',x='Age_Band')\n",
    "ax.bar_label(ax.containers[0])\n",
    "plt.show()"
   ]
  },
  {
   "cell_type": "markdown",
   "metadata": {},
   "source": [
    "## 13. Calculate the attrition rate for each job role. "
   ]
  },
  {
   "cell_type": "code",
   "execution_count": 67,
   "metadata": {},
   "outputs": [
    {
     "data": {
      "image/png": "[encoded data removed]",
      "text/plain": [
       "<Figure size 1000x600 with 1 Axes>"
      ]
     },
     "metadata": {},
     "output_type": "display_data"
    }
   ],
   "source": [
    "import matplotlib.pyplot as plt\n",
    "import pandas as pd\n",
    "\n",
    "# Assuming the query has been executed and data is fetched correctly\n",
    "query = \"\"\"SELECT \n",
    "    job_role,\n",
    "    ROUND(\n",
    "        (CAST(COUNT(attrition) AS NUMERIC) * 100.0) /\n",
    "        (SELECT COUNT(*) FROM hrdata WHERE attrition = 'Yes'),\n",
    "        2\n",
    "    ) AS attrition_rate\n",
    "FROM hrdata\n",
    "WHERE attrition = 'Yes'\n",
    "GROUP BY job_role\n",
    "ORDER BY attrition_rate DESC;\"\"\"\n",
    "\n",
    "\n",
    "cur.execute(query)\n",
    "data = cur.fetchall()\n",
    "result = pd.DataFrame(data, columns=['job_role', 'attrition_rate'])\n",
    "\n",
    "\n",
    "plt.figure(figsize=(10, 6))\n",
    "ax = plt.barh(result['job_role'], result['attrition_rate'], color='skyblue')\n",
    "plt.title('Attrition Rate by Job Role')\n",
    "plt.xlabel('Attrition Rate (%)')\n",
    "plt.ylabel('Job Role')\n",
    "plt.show()\n"
   ]
  },
  {
   "cell_type": "markdown",
   "metadata": {},
   "source": [
    "## 14. Determine the average age of employees by marital status and gender.  "
   ]
  },
  {
   "cell_type": "code",
   "execution_count": 68,
   "metadata": {},
   "outputs": [
    {
     "data": {
      "text/html": [
       "<div>\n",
       "<style scoped>\n",
       "    .dataframe tbody tr th:only-of-type {\n",
       "        vertical-align: middle;\n",
       "    }\n",
       "\n",
       "    .dataframe tbody tr th {\n",
       "        vertical-align: top;\n",
       "    }\n",
       "\n",
       "    .dataframe thead th {\n",
       "        text-align: right;\n",
       "    }\n",
       "</style>\n",
       "<table border=\"1\" class=\"dataframe\">\n",
       "  <thead>\n",
       "    <tr style=\"text-align: right;\">\n",
       "      <th></th>\n",
       "      <th>marital_status</th>\n",
       "      <th>gender</th>\n",
       "      <th>avg_age</th>\n",
       "    </tr>\n",
       "  </thead>\n",
       "  <tbody>\n",
       "    <tr>\n",
       "      <th>0</th>\n",
       "      <td>Married</td>\n",
       "      <td>Female</td>\n",
       "      <td>39</td>\n",
       "    </tr>\n",
       "    <tr>\n",
       "      <th>1</th>\n",
       "      <td>Divorced</td>\n",
       "      <td>Female</td>\n",
       "      <td>38</td>\n",
       "    </tr>\n",
       "    <tr>\n",
       "      <th>2</th>\n",
       "      <td>Single</td>\n",
       "      <td>Female</td>\n",
       "      <td>35</td>\n",
       "    </tr>\n",
       "    <tr>\n",
       "      <th>3</th>\n",
       "      <td>Married</td>\n",
       "      <td>Male</td>\n",
       "      <td>37</td>\n",
       "    </tr>\n",
       "    <tr>\n",
       "      <th>4</th>\n",
       "      <td>Single</td>\n",
       "      <td>Male</td>\n",
       "      <td>35</td>\n",
       "    </tr>\n",
       "    <tr>\n",
       "      <th>5</th>\n",
       "      <td>Divorced</td>\n",
       "      <td>Male</td>\n",
       "      <td>37</td>\n",
       "    </tr>\n",
       "  </tbody>\n",
       "</table>\n",
       "</div>"
      ],
      "text/plain": [
       "  marital_status  gender avg_age\n",
       "0        Married  Female      39\n",
       "1       Divorced  Female      38\n",
       "2         Single  Female      35\n",
       "3        Married    Male      37\n",
       "4         Single    Male      35\n",
       "5       Divorced    Male      37"
      ]
     },
     "execution_count": 68,
     "metadata": {},
     "output_type": "execute_result"
    }
   ],
   "source": [
    "query = \"\"\"SELECT \n",
    "    marital_status,\n",
    "    gender,\n",
    "    ROUND(AVG(age), 0) AS avg_age\n",
    "FROM hrdata\n",
    "GROUP BY marital_status, gender;\"\"\"\n",
    "cur.execute(query)\n",
    "data = cur.fetchall()\n",
    "result = pd.DataFrame(data, columns=['marital_status','gender','avg_age'])\n",
    "result"
   ]
  },
  {
   "cell_type": "markdown",
   "metadata": {},
   "source": [
    "## 15. Rank departments based on the average job satisfaction of their employees."
   ]
  },
  {
   "cell_type": "code",
   "execution_count": 69,
   "metadata": {},
   "outputs": [
    {
     "data": {
      "text/html": [
       "<div>\n",
       "<style scoped>\n",
       "    .dataframe tbody tr th:only-of-type {\n",
       "        vertical-align: middle;\n",
       "    }\n",
       "\n",
       "    .dataframe tbody tr th {\n",
       "        vertical-align: top;\n",
       "    }\n",
       "\n",
       "    .dataframe thead th {\n",
       "        text-align: right;\n",
       "    }\n",
       "</style>\n",
       "<table border=\"1\" class=\"dataframe\">\n",
       "  <thead>\n",
       "    <tr style=\"text-align: right;\">\n",
       "      <th></th>\n",
       "      <th>department</th>\n",
       "      <th>avg_jobSatisfaction</th>\n",
       "      <th>rank</th>\n",
       "    </tr>\n",
       "  </thead>\n",
       "  <tbody>\n",
       "    <tr>\n",
       "      <th>0</th>\n",
       "      <td>Sales</td>\n",
       "      <td>2.75</td>\n",
       "      <td>1</td>\n",
       "    </tr>\n",
       "    <tr>\n",
       "      <th>1</th>\n",
       "      <td>R&amp;D</td>\n",
       "      <td>2.73</td>\n",
       "      <td>2</td>\n",
       "    </tr>\n",
       "    <tr>\n",
       "      <th>2</th>\n",
       "      <td>HR</td>\n",
       "      <td>2.60</td>\n",
       "      <td>3</td>\n",
       "    </tr>\n",
       "  </tbody>\n",
       "</table>\n",
       "</div>"
      ],
      "text/plain": [
       "  department avg_jobSatisfaction  rank\n",
       "0      Sales                2.75     1\n",
       "1        R&D                2.73     2\n",
       "2         HR                2.60     3"
      ]
     },
     "execution_count": 69,
     "metadata": {},
     "output_type": "execute_result"
    }
   ],
   "source": [
    "query = \"\"\"SELECT \n",
    "    department, \n",
    "    avg_jobSatisfaction,\n",
    "    DENSE_RANK() OVER (ORDER BY avg_jobSatisfaction DESC) AS rank\n",
    "FROM avg_jobSatisfaction;\"\"\"\n",
    "\n",
    "cur.execute(query)\n",
    "data = cur.fetchall()\n",
    "result = pd.DataFrame(data,columns=['department','avg_jobSatisfaction','rank'])\n",
    "result"
   ]
  },
  {
   "cell_type": "markdown",
   "metadata": {},
   "source": [
    "## 16. Find the correlation between attrition and job satisfaction."
   ]
  },
  {
   "cell_type": "code",
   "execution_count": 72,
   "metadata": {},
   "outputs": [
    {
     "name": "stdout",
     "output_type": "stream",
     "text": [
      "The correlation between attrition and job satisfaction is -0.10\n"
     ]
    }
   ],
   "source": [
    "query = \"\"\"WITH data AS (\n",
    "    SELECT \n",
    "        CASE WHEN attrition = 'Yes' THEN 1 ELSE 0 END AS attrition_numeric,\n",
    "        job_satisfaction\n",
    "    FROM hrdata\n",
    "),\n",
    "stats AS (\n",
    "    SELECT \n",
    "        AVG(attrition_numeric) AS avg_attrition,\n",
    "        AVG(job_satisfaction) AS avg_job_satisfaction,\n",
    "        STDDEV(attrition_numeric) AS stddev_attrition,\n",
    "        STDDEV(job_satisfaction) AS stddev_job_satisfaction\n",
    "    FROM data\n",
    "),\n",
    "covariance AS (\n",
    "    SELECT \n",
    "       round(AVG((attrition_numeric - (SELECT avg_attrition FROM stats)) * \n",
    "            (job_satisfaction - (SELECT avg_job_satisfaction FROM stats))),2) AS covar\n",
    "    FROM data\n",
    ")\n",
    "SELECT \n",
    "    round((SELECT covar FROM covariance) /\n",
    "    ((SELECT stddev_attrition FROM stats) * (SELECT stddev_job_satisfaction FROM stats)),2) AS correlation\"\"\"\n",
    "    \n",
    "cur.execute(query)\n",
    "data = cur.fetchall()\n",
    "print(f\"The correlation between attrition and job satisfaction is {data[0][0]}\")"
   ]
  },
  {
   "cell_type": "markdown",
   "metadata": {},
   "source": [
    "## 17. Identify the education fields with the highest proportion of employees in senior job roles."
   ]
  },
  {
   "cell_type": "code",
   "execution_count": 78,
   "metadata": {},
   "outputs": [
    {
     "data": {
      "image/png": "[encoded data removed]",
      "text/plain": [
       "<Figure size 1000x600 with 1 Axes>"
      ]
     },
     "metadata": {},
     "output_type": "display_data"
    }
   ],
   "source": [
    "query = \"\"\"WITH senior_roles AS (\n",
    "    SELECT \n",
    "        education_field,\n",
    "        COUNT(*) AS senior_count\n",
    "    FROM hrdata\n",
    "    WHERE job_role IN ('Manager', 'Manufacturing Director', 'Research Director')\n",
    "    GROUP BY education_field\n",
    "),\n",
    "total_roles AS (\n",
    "    SELECT \n",
    "        education_field,\n",
    "        COUNT(*) AS total_count\n",
    "    FROM hrdata\n",
    "    GROUP BY education_field\n",
    ")\n",
    "SELECT \n",
    "    sr.education_field,\n",
    "    ROUND(CAST(sr.senior_count AS NUMERIC) * 100.0 / tr.total_count, 2) AS senior_proportion\n",
    "FROM senior_roles sr\n",
    "JOIN total_roles tr ON sr.education_field = tr.education_field\n",
    "ORDER BY senior_proportion DESC;\"\"\"\n",
    "cur.execute(query)\n",
    "data = cur.fetchall()\n",
    "result = pd.DataFrame(data,columns=['education_field', 'senior_proportion'])\n",
    "result\n",
    "\n",
    "\n",
    "plt.figure(figsize=(10, 6))\n",
    "\n",
    "bars = plt.bar(result['education_field'], result['senior_proportion'], color='skyblue')\n",
    "\n",
    "for bar in bars:\n",
    "    yval = bar.get_height()\n",
    "    plt.text(bar.get_x() + bar.get_width() / 2, yval + 0.02, f'{yval:.2f}', ha='center', va='bottom', color='black')\n",
    "\n",
    "plt.title('Proportion of Senior Employees by Education Field')\n",
    "plt.xlabel('Education Field')\n",
    "plt.ylabel('Senior Proportion')\n",
    "\n",
    "plt.show()"
   ]
  },
  {
   "cell_type": "markdown",
   "metadata": {},
   "source": [
    "## 18. Retrieve the department with the highest number of employees eligible for retirement (e.g., age >= 60)."
   ]
  },
  {
   "cell_type": "code",
   "execution_count": 79,
   "metadata": {},
   "outputs": [
    {
     "data": {
      "text/html": [
       "<div>\n",
       "<style scoped>\n",
       "    .dataframe tbody tr th:only-of-type {\n",
       "        vertical-align: middle;\n",
       "    }\n",
       "\n",
       "    .dataframe tbody tr th {\n",
       "        vertical-align: top;\n",
       "    }\n",
       "\n",
       "    .dataframe thead th {\n",
       "        text-align: right;\n",
       "    }\n",
       "</style>\n",
       "<table border=\"1\" class=\"dataframe\">\n",
       "  <thead>\n",
       "    <tr style=\"text-align: right;\">\n",
       "      <th></th>\n",
       "      <th>department</th>\n",
       "      <th>retirement_eligible_count</th>\n",
       "    </tr>\n",
       "  </thead>\n",
       "  <tbody>\n",
       "    <tr>\n",
       "      <th>0</th>\n",
       "      <td>Sales</td>\n",
       "      <td>3</td>\n",
       "    </tr>\n",
       "  </tbody>\n",
       "</table>\n",
       "</div>"
      ],
      "text/plain": [
       "  department  retirement_eligible_count\n",
       "0      Sales                          3"
      ]
     },
     "execution_count": 79,
     "metadata": {},
     "output_type": "execute_result"
    }
   ],
   "source": [
    "query = \"\"\"SELECT \n",
    "    department,\n",
    "    COUNT(emp_no) AS retirement_eligible_count\n",
    "FROM hrdata\n",
    "WHERE age >= 60\n",
    "GROUP BY department\n",
    "ORDER BY retirement_eligible_count DESC\n",
    "LIMIT 1;\n",
    "\"\"\"\n",
    "\n",
    "cur.execute(query)\n",
    "data = cur.fetchall()\n",
    "result = pd.DataFrame(data,columns=['department','retirement_eligible_count'])\n",
    "result"
   ]
  },
  {
   "cell_type": "markdown",
   "metadata": {},
   "source": [
    "##  19. Analyze the attrition rate across different education levels and fields."
   ]
  },
  {
   "cell_type": "code",
   "execution_count": 80,
   "metadata": {},
   "outputs": [
    {
     "data": {
      "text/html": [
       "<div>\n",
       "<style scoped>\n",
       "    .dataframe tbody tr th:only-of-type {\n",
       "        vertical-align: middle;\n",
       "    }\n",
       "\n",
       "    .dataframe tbody tr th {\n",
       "        vertical-align: top;\n",
       "    }\n",
       "\n",
       "    .dataframe thead th {\n",
       "        text-align: right;\n",
       "    }\n",
       "</style>\n",
       "<table border=\"1\" class=\"dataframe\">\n",
       "  <thead>\n",
       "    <tr style=\"text-align: right;\">\n",
       "      <th></th>\n",
       "      <th>education</th>\n",
       "      <th>education_field</th>\n",
       "      <th>attrition_rate</th>\n",
       "    </tr>\n",
       "  </thead>\n",
       "  <tbody>\n",
       "    <tr>\n",
       "      <th>0</th>\n",
       "      <td>Bachelor's Degree</td>\n",
       "      <td>Life Sciences</td>\n",
       "      <td>15.61</td>\n",
       "    </tr>\n",
       "    <tr>\n",
       "      <th>1</th>\n",
       "      <td>Master's Degree</td>\n",
       "      <td>Life Sciences</td>\n",
       "      <td>10.55</td>\n",
       "    </tr>\n",
       "    <tr>\n",
       "      <th>2</th>\n",
       "      <td>Bachelor's Degree</td>\n",
       "      <td>Medical</td>\n",
       "      <td>10.55</td>\n",
       "    </tr>\n",
       "    <tr>\n",
       "      <th>3</th>\n",
       "      <td>Associates Degree</td>\n",
       "      <td>Life Sciences</td>\n",
       "      <td>7.59</td>\n",
       "    </tr>\n",
       "    <tr>\n",
       "      <th>4</th>\n",
       "      <td>Bachelor's Degree</td>\n",
       "      <td>Technical Degree</td>\n",
       "      <td>6.75</td>\n",
       "    </tr>\n",
       "    <tr>\n",
       "      <th>5</th>\n",
       "      <td>Bachelor's Degree</td>\n",
       "      <td>Marketing</td>\n",
       "      <td>6.33</td>\n",
       "    </tr>\n",
       "    <tr>\n",
       "      <th>6</th>\n",
       "      <td>Associates Degree</td>\n",
       "      <td>Medical</td>\n",
       "      <td>6.33</td>\n",
       "    </tr>\n",
       "    <tr>\n",
       "      <th>7</th>\n",
       "      <td>Master's Degree</td>\n",
       "      <td>Medical</td>\n",
       "      <td>5.49</td>\n",
       "    </tr>\n",
       "    <tr>\n",
       "      <th>8</th>\n",
       "      <td>High School</td>\n",
       "      <td>Medical</td>\n",
       "      <td>4.22</td>\n",
       "    </tr>\n",
       "    <tr>\n",
       "      <th>9</th>\n",
       "      <td>Master's Degree</td>\n",
       "      <td>Marketing</td>\n",
       "      <td>3.80</td>\n",
       "    </tr>\n",
       "    <tr>\n",
       "      <th>10</th>\n",
       "      <td>High School</td>\n",
       "      <td>Life Sciences</td>\n",
       "      <td>3.38</td>\n",
       "    </tr>\n",
       "    <tr>\n",
       "      <th>11</th>\n",
       "      <td>Associates Degree</td>\n",
       "      <td>Marketing</td>\n",
       "      <td>2.53</td>\n",
       "    </tr>\n",
       "    <tr>\n",
       "      <th>12</th>\n",
       "      <td>High School</td>\n",
       "      <td>Technical Degree</td>\n",
       "      <td>2.53</td>\n",
       "    </tr>\n",
       "    <tr>\n",
       "      <th>13</th>\n",
       "      <td>Master's Degree</td>\n",
       "      <td>Other</td>\n",
       "      <td>2.53</td>\n",
       "    </tr>\n",
       "    <tr>\n",
       "      <th>14</th>\n",
       "      <td>Master's Degree</td>\n",
       "      <td>Technical Degree</td>\n",
       "      <td>1.69</td>\n",
       "    </tr>\n",
       "    <tr>\n",
       "      <th>15</th>\n",
       "      <td>High School</td>\n",
       "      <td>Marketing</td>\n",
       "      <td>1.69</td>\n",
       "    </tr>\n",
       "    <tr>\n",
       "      <th>16</th>\n",
       "      <td>Associates Degree</td>\n",
       "      <td>Technical Degree</td>\n",
       "      <td>1.69</td>\n",
       "    </tr>\n",
       "    <tr>\n",
       "      <th>17</th>\n",
       "      <td>Bachelor's Degree</td>\n",
       "      <td>Human Resources</td>\n",
       "      <td>1.69</td>\n",
       "    </tr>\n",
       "    <tr>\n",
       "      <th>18</th>\n",
       "      <td>Bachelor's Degree</td>\n",
       "      <td>Other</td>\n",
       "      <td>0.84</td>\n",
       "    </tr>\n",
       "    <tr>\n",
       "      <th>19</th>\n",
       "      <td>High School</td>\n",
       "      <td>Other</td>\n",
       "      <td>0.84</td>\n",
       "    </tr>\n",
       "    <tr>\n",
       "      <th>20</th>\n",
       "      <td>Doctoral Degree</td>\n",
       "      <td>Technical Degree</td>\n",
       "      <td>0.84</td>\n",
       "    </tr>\n",
       "    <tr>\n",
       "      <th>21</th>\n",
       "      <td>Doctoral Degree</td>\n",
       "      <td>Life Sciences</td>\n",
       "      <td>0.42</td>\n",
       "    </tr>\n",
       "    <tr>\n",
       "      <th>22</th>\n",
       "      <td>Doctoral Degree</td>\n",
       "      <td>Marketing</td>\n",
       "      <td>0.42</td>\n",
       "    </tr>\n",
       "    <tr>\n",
       "      <th>23</th>\n",
       "      <td>Associates Degree</td>\n",
       "      <td>Other</td>\n",
       "      <td>0.42</td>\n",
       "    </tr>\n",
       "    <tr>\n",
       "      <th>24</th>\n",
       "      <td>High School</td>\n",
       "      <td>Human Resources</td>\n",
       "      <td>0.42</td>\n",
       "    </tr>\n",
       "    <tr>\n",
       "      <th>25</th>\n",
       "      <td>Doctoral Degree</td>\n",
       "      <td>Human Resources</td>\n",
       "      <td>0.42</td>\n",
       "    </tr>\n",
       "    <tr>\n",
       "      <th>26</th>\n",
       "      <td>Master's Degree</td>\n",
       "      <td>Human Resources</td>\n",
       "      <td>0.42</td>\n",
       "    </tr>\n",
       "  </tbody>\n",
       "</table>\n",
       "</div>"
      ],
      "text/plain": [
       "            education   education_field attrition_rate\n",
       "0   Bachelor's Degree     Life Sciences          15.61\n",
       "1     Master's Degree     Life Sciences          10.55\n",
       "2   Bachelor's Degree           Medical          10.55\n",
       "3   Associates Degree     Life Sciences           7.59\n",
       "4   Bachelor's Degree  Technical Degree           6.75\n",
       "5   Bachelor's Degree         Marketing           6.33\n",
       "6   Associates Degree           Medical           6.33\n",
       "7     Master's Degree           Medical           5.49\n",
       "8         High School           Medical           4.22\n",
       "9     Master's Degree         Marketing           3.80\n",
       "10        High School     Life Sciences           3.38\n",
       "11  Associates Degree         Marketing           2.53\n",
       "12        High School  Technical Degree           2.53\n",
       "13    Master's Degree             Other           2.53\n",
       "14    Master's Degree  Technical Degree           1.69\n",
       "15        High School         Marketing           1.69\n",
       "16  Associates Degree  Technical Degree           1.69\n",
       "17  Bachelor's Degree   Human Resources           1.69\n",
       "18  Bachelor's Degree             Other           0.84\n",
       "19        High School             Other           0.84\n",
       "20    Doctoral Degree  Technical Degree           0.84\n",
       "21    Doctoral Degree     Life Sciences           0.42\n",
       "22    Doctoral Degree         Marketing           0.42\n",
       "23  Associates Degree             Other           0.42\n",
       "24        High School   Human Resources           0.42\n",
       "25    Doctoral Degree   Human Resources           0.42\n",
       "26    Master's Degree   Human Resources           0.42"
      ]
     },
     "execution_count": 80,
     "metadata": {},
     "output_type": "execute_result"
    }
   ],
   "source": [
    "query = \"\"\"SELECT \n",
    "    education, \n",
    "    education_field,\n",
    "    ROUND(\n",
    "        CAST(COUNT(attrition) AS NUMERIC) * 100.0 / \n",
    "        (SELECT COUNT(*) FROM hrdata WHERE attrition = 'Yes'),\n",
    "        2\n",
    "    ) AS attrition_rate\n",
    "FROM hrdata\n",
    "WHERE attrition = 'Yes'\n",
    "GROUP BY education, education_field\n",
    "ORDER BY attrition_rate DESC;\"\"\"\n",
    "\n",
    "cur.execute(query)\n",
    "data = cur.fetchall()\n",
    "result = pd.DataFrame(data,columns=['education','education_field','attrition_rate'])\n",
    "result"
   ]
  },
  {
   "cell_type": "markdown",
   "metadata": {},
   "source": [
    "##  20. Create a summary report showing the total employees, attrition count, and active employee count for each department."
   ]
  },
  {
   "cell_type": "code",
   "execution_count": 81,
   "metadata": {},
   "outputs": [
    {
     "data": {
      "text/html": [
       "<div>\n",
       "<style scoped>\n",
       "    .dataframe tbody tr th:only-of-type {\n",
       "        vertical-align: middle;\n",
       "    }\n",
       "\n",
       "    .dataframe tbody tr th {\n",
       "        vertical-align: top;\n",
       "    }\n",
       "\n",
       "    .dataframe thead th {\n",
       "        text-align: right;\n",
       "    }\n",
       "</style>\n",
       "<table border=\"1\" class=\"dataframe\">\n",
       "  <thead>\n",
       "    <tr style=\"text-align: right;\">\n",
       "      <th></th>\n",
       "      <th>department</th>\n",
       "      <th>total_employee</th>\n",
       "      <th>attrion_count</th>\n",
       "      <th>active_emp_count</th>\n",
       "    </tr>\n",
       "  </thead>\n",
       "  <tbody>\n",
       "    <tr>\n",
       "      <th>0</th>\n",
       "      <td>HR</td>\n",
       "      <td>63</td>\n",
       "      <td>12</td>\n",
       "      <td>51</td>\n",
       "    </tr>\n",
       "    <tr>\n",
       "      <th>1</th>\n",
       "      <td>R&amp;D</td>\n",
       "      <td>961</td>\n",
       "      <td>133</td>\n",
       "      <td>828</td>\n",
       "    </tr>\n",
       "    <tr>\n",
       "      <th>2</th>\n",
       "      <td>Sales</td>\n",
       "      <td>446</td>\n",
       "      <td>92</td>\n",
       "      <td>354</td>\n",
       "    </tr>\n",
       "  </tbody>\n",
       "</table>\n",
       "</div>"
      ],
      "text/plain": [
       "  department  total_employee  attrion_count  active_emp_count\n",
       "0         HR              63             12                51\n",
       "1        R&D             961            133               828\n",
       "2      Sales             446             92               354"
      ]
     },
     "execution_count": 81,
     "metadata": {},
     "output_type": "execute_result"
    }
   ],
   "source": [
    "query = \"\"\"SELECT \n",
    "    department,\n",
    "    COUNT(emp_no) AS total_employees,\n",
    "    COUNT(CASE WHEN attrition = 'Yes' THEN 1 END) AS attrition_count,\n",
    "    COUNT(CASE WHEN attrition = 'No' THEN 1 END) AS active_employee_count\n",
    "FROM hrdata\n",
    "GROUP BY department\n",
    "ORDER BY department;\n",
    "\"\"\"\n",
    "\n",
    "cur.execute(query)\n",
    "data = cur.fetchall()\n",
    "result = pd.DataFrame(data,columns=['department','total_employee','attrion_count','active_emp_count'])\n",
    "result"
   ]
  },
  {
   "cell_type": "code",
   "execution_count": null,
   "metadata": {},
   "outputs": [],
   "source": []
  }
 ],
 "metadata": {
  "kernelspec": {
   "display_name": "Python 3",
   "language": "python",
   "name": "python3"
  },
  "language_info": {
   "codemirror_mode": {
    "name": "ipython",
    "version": 3
   },
   "file_extension": ".py",
   "mimetype": "text/x-python",
   "name": "python",
   "nbconvert_exporter": "python",
   "pygments_lexer": "ipython3",
   "version": "3.12.3"
  }
 },
 "nbformat": 4,
 "nbformat_minor": 2
}
